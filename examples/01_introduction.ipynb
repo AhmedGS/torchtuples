{
 "cells": [
  {
   "cell_type": "markdown",
   "metadata": {},
   "source": [
    "# Introduction to torchtuples\n",
    "\n",
    "In this notebook we illustrate the most basic use of torchtuples to fit models.\n",
    "\n",
    "For more general usage, see 02_general_usage.ipynb"
   ]
  },
  {
   "cell_type": "code",
   "execution_count": 1,
   "metadata": {},
   "outputs": [],
   "source": [
    "import numpy as np\n",
    "import matplotlib.pyplot as plt\n",
    "import torch\n",
    "import torchtuples\n",
    "from torchtuples import Model\n",
    "from torchtuples.practical import MLPVanilla"
   ]
  },
  {
   "cell_type": "code",
   "execution_count": 2,
   "metadata": {},
   "outputs": [],
   "source": [
    "from sklearn.datasets import make_classification # to create a data set\n",
    "from sklearn.model_selection import train_test_split"
   ]
  },
  {
   "cell_type": "code",
   "execution_count": 3,
   "metadata": {},
   "outputs": [],
   "source": [
    "# to reproduce results\n",
    "np.random.seed(1234)\n",
    "_ = torch.manual_seed(4321)"
   ]
  },
  {
   "cell_type": "markdown",
   "metadata": {},
   "source": [
    "## Make a data set\n",
    "\n",
    "We create a binary classification data set with `make_classification` and split it in training, validation and testing.\n",
    "\n",
    "The data set is standardized, so we require no more preprocessing. However, we need to set the data type to 'float32', as torch does not work for 'float64', and we need y to be a column vector as this is expected by `torch.nn.BCEWithLogitsLoss`"
   ]
  },
  {
   "cell_type": "code",
   "execution_count": 4,
   "metadata": {},
   "outputs": [],
   "source": [
    "n = 10000\n",
    "x_train, y_train = make_classification(n)\n",
    "x_train = x_train.astype('float32')\n",
    "y_train = y_train.astype('float32').reshape(-1, 1)\n",
    "x_train, x_test, y_train, y_test = train_test_split(x_train, y_train, test_size=0.2)\n",
    "x_train, x_val, y_train, y_val = train_test_split(x_train, y_train, test_size=0.2)"
   ]
  },
  {
   "cell_type": "markdown",
   "metadata": {},
   "source": [
    "## Make a torch net\n",
    "\n",
    "Next, we need to make the torch net. For simplicity we will use `MLPVanilla` to make a two-hidden-layers MLP with 32 nodes in each layer, ReLU activation, batch norm and dropout of 0.1.\n",
    "\n",
    "If you don't know how to make torch models, you shold see PyTorch has some [excellent tutorials](https://pytorch.org/tutorials/)"
   ]
  },
  {
   "cell_type": "code",
   "execution_count": 5,
   "metadata": {},
   "outputs": [],
   "source": [
    "in_features = x_train.shape[1]\n",
    "num_nodes = [32, 32]\n",
    "out_features = 1\n",
    "batch_norm = True\n",
    "dropout = 0.1\n",
    "\n",
    "net = MLPVanilla(in_features, num_nodes, out_features, batch_norm, dropout)"
   ]
  },
  {
   "cell_type": "code",
   "execution_count": 6,
   "metadata": {},
   "outputs": [
    {
     "data": {
      "text/plain": [
       "MLPVanilla(\n",
       "  (net): Sequential(\n",
       "    (0): LinearVanillaBlock(\n",
       "      (linear): Linear(in_features=20, out_features=32, bias=True)\n",
       "      (activation): ReLU()\n",
       "      (batch_norm): BatchNorm1d(32, eps=1e-05, momentum=0.1, affine=True, track_running_stats=True)\n",
       "      (dropout): Dropout(p=0.1)\n",
       "    )\n",
       "    (1): LinearVanillaBlock(\n",
       "      (linear): Linear(in_features=32, out_features=32, bias=True)\n",
       "      (activation): ReLU()\n",
       "      (batch_norm): BatchNorm1d(32, eps=1e-05, momentum=0.1, affine=True, track_running_stats=True)\n",
       "      (dropout): Dropout(p=0.1)\n",
       "    )\n",
       "    (2): Linear(in_features=32, out_features=1, bias=True)\n",
       "  )\n",
       ")"
      ]
     },
     "execution_count": 6,
     "metadata": {},
     "output_type": "execute_result"
    }
   ],
   "source": [
    "net"
   ]
  },
  {
   "cell_type": "markdown",
   "metadata": {},
   "source": [
    "## Train model\n",
    "\n",
    "We now define the loss function (binary cross-entropy) and the optimizer (Adma) and create a model. We can use optimizers form `torch`, but the `torchtuples.optim` module contrain wrappers to the same optimizers with some add functionality.\n",
    "\n",
    "If we don't specify a `device`, the `Moded` will used gpu if avaiable."
   ]
  },
  {
   "cell_type": "code",
   "execution_count": 7,
   "metadata": {},
   "outputs": [],
   "source": [
    "loss = torch.nn.BCEWithLogitsLoss()\n",
    "optimizer = torchtuples.optim.Adam(lr=0.001)\n",
    "model = Model(net, loss, optimizer)"
   ]
  },
  {
   "cell_type": "markdown",
   "metadata": {},
   "source": [
    "We can now fit the data set, with an optional validation set"
   ]
  },
  {
   "cell_type": "code",
   "execution_count": 8,
   "metadata": {},
   "outputs": [
    {
     "name": "stdout",
     "output_type": "stream",
     "text": [
      "0:\t[0s / 0s],\t\ttrain_loss: 0.6232,\tval_loss: 0.5740\n",
      "1:\t[0s / 0s],\t\ttrain_loss: 0.5372,\tval_loss: 0.4760\n",
      "2:\t[0s / 0s],\t\ttrain_loss: 0.4583,\tval_loss: 0.3986\n",
      "3:\t[0s / 0s],\t\ttrain_loss: 0.3876,\tval_loss: 0.3425\n",
      "4:\t[0s / 0s],\t\ttrain_loss: 0.3443,\tval_loss: 0.3061\n"
     ]
    }
   ],
   "source": [
    "log = model.fit(x_train, y_train, batch_size=256, epochs=5, val_data=(x_val, y_val))"
   ]
  },
  {
   "cell_type": "markdown",
   "metadata": {},
   "source": [
    "the model keeps track of the trainig so one can continue"
   ]
  },
  {
   "cell_type": "code",
   "execution_count": 9,
   "metadata": {},
   "outputs": [
    {
     "name": "stdout",
     "output_type": "stream",
     "text": [
      "5:\t[0s / 0s],\t\ttrain_loss: 0.3073,\tval_loss: 0.2835\n",
      "6:\t[0s / 0s],\t\ttrain_loss: 0.2894,\tval_loss: 0.2723\n",
      "7:\t[0s / 0s],\t\ttrain_loss: 0.2741,\tval_loss: 0.2625\n",
      "8:\t[0s / 0s],\t\ttrain_loss: 0.2679,\tval_loss: 0.2565\n",
      "9:\t[0s / 0s],\t\ttrain_loss: 0.2639,\tval_loss: 0.2510\n"
     ]
    }
   ],
   "source": [
    "log = model.fit(x_train, y_train, batch_size=256, epochs=5, val_data=(x_val, y_val))"
   ]
  },
  {
   "cell_type": "markdown",
   "metadata": {},
   "source": [
    "The progress is store in `log` or `model.log`, and we can create a data frame or plot the results"
   ]
  },
  {
   "cell_type": "code",
   "execution_count": 10,
   "metadata": {},
   "outputs": [
    {
     "data": {
      "text/html": [
       "<div>\n",
       "<style scoped>\n",
       "    .dataframe tbody tr th:only-of-type {\n",
       "        vertical-align: middle;\n",
       "    }\n",
       "\n",
       "    .dataframe tbody tr th {\n",
       "        vertical-align: top;\n",
       "    }\n",
       "\n",
       "    .dataframe thead th {\n",
       "        text-align: right;\n",
       "    }\n",
       "</style>\n",
       "<table border=\"1\" class=\"dataframe\">\n",
       "  <thead>\n",
       "    <tr style=\"text-align: right;\">\n",
       "      <th></th>\n",
       "      <th>train_loss</th>\n",
       "      <th>val_loss</th>\n",
       "    </tr>\n",
       "  </thead>\n",
       "  <tbody>\n",
       "    <tr>\n",
       "      <th>0</th>\n",
       "      <td>0.623153</td>\n",
       "      <td>0.573984</td>\n",
       "    </tr>\n",
       "    <tr>\n",
       "      <th>1</th>\n",
       "      <td>0.537241</td>\n",
       "      <td>0.475984</td>\n",
       "    </tr>\n",
       "    <tr>\n",
       "      <th>2</th>\n",
       "      <td>0.458258</td>\n",
       "      <td>0.398643</td>\n",
       "    </tr>\n",
       "    <tr>\n",
       "      <th>3</th>\n",
       "      <td>0.387587</td>\n",
       "      <td>0.342534</td>\n",
       "    </tr>\n",
       "    <tr>\n",
       "      <th>4</th>\n",
       "      <td>0.344325</td>\n",
       "      <td>0.306090</td>\n",
       "    </tr>\n",
       "  </tbody>\n",
       "</table>\n",
       "</div>"
      ],
      "text/plain": [
       "   train_loss  val_loss\n",
       "0    0.623153  0.573984\n",
       "1    0.537241  0.475984\n",
       "2    0.458258  0.398643\n",
       "3    0.387587  0.342534\n",
       "4    0.344325  0.306090"
      ]
     },
     "execution_count": 10,
     "metadata": {},
     "output_type": "execute_result"
    }
   ],
   "source": [
    "log.to_pandas().head()"
   ]
  },
  {
   "cell_type": "code",
   "execution_count": 11,
   "metadata": {},
   "outputs": [
    {
     "data": {
      "text/plain": [
       "<matplotlib.axes._subplots.AxesSubplot at 0x1a24be96d8>"
      ]
     },
     "execution_count": 11,
     "metadata": {},
     "output_type": "execute_result"
    },
    {
     "data": {
      "image/png": "[encoded data removed]",
      "text/plain": [
       "<Figure size 432x288 with 1 Axes>"
      ]
     },
     "metadata": {
      "needs_background": "light"
     },
     "output_type": "display_data"
    }
   ],
   "source": [
    "log.plot()"
   ]
  },
  {
   "cell_type": "markdown",
   "metadata": {},
   "source": [
    "## Predictions\n",
    "\n",
    "We can now used the `predict` method on our test set"
   ]
  },
  {
   "cell_type": "code",
   "execution_count": 12,
   "metadata": {},
   "outputs": [],
   "source": [
    "preds = model.predict(x_test)"
   ]
  },
  {
   "cell_type": "code",
   "execution_count": 13,
   "metadata": {},
   "outputs": [
    {
     "data": {
      "text/plain": [
       "numpy.ndarray"
      ]
     },
     "execution_count": 13,
     "metadata": {},
     "output_type": "execute_result"
    }
   ],
   "source": [
    "type(preds)"
   ]
  },
  {
   "cell_type": "markdown",
   "metadata": {},
   "source": [
    "However, to get probability estimates, we need to pass the results though a `sigmoid function`. It is easier to do this with a torch tensor than a numpy array, so we pass `numpy=False` to the predict method"
   ]
  },
  {
   "cell_type": "code",
   "execution_count": 14,
   "metadata": {},
   "outputs": [],
   "source": [
    "preds = model.predict(x_test, numpy=False).sigmoid().numpy()"
   ]
  },
  {
   "cell_type": "markdown",
   "metadata": {},
   "source": [
    "We can now get the test accuracy:"
   ]
  },
  {
   "cell_type": "code",
   "execution_count": 15,
   "metadata": {},
   "outputs": [
    {
     "data": {
      "text/plain": [
       "0.894"
      ]
     },
     "execution_count": 15,
     "metadata": {},
     "output_type": "execute_result"
    }
   ],
   "source": [
    "((preds > 0.5) == y_test).mean()"
   ]
  },
  {
   "cell_type": "code",
   "execution_count": null,
   "metadata": {},
   "outputs": [],
   "source": []
  }
 ],
 "metadata": {
  "kernelspec": {
   "display_name": "Python 3",
   "language": "python",
   "name": "python3"
  },
  "language_info": {
   "codemirror_mode": {
    "name": "ipython",
    "version": 3
   },
   "file_extension": ".py",
   "mimetype": "text/x-python",
   "name": "python",
   "nbconvert_exporter": "python",
   "pygments_lexer": "ipython3",
   "version": "3.7.3"
  }
 },
 "nbformat": 4,
 "nbformat_minor": 2
}
