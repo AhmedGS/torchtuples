{
 "cells": [
  {
   "cell_type": "markdown",
   "metadata": {},
   "source": [
    "# MNIST example\n",
    "\n",
    "Althought torchtuples is created to work with arrays/tensors in memory, one can still use it to fit a data set by reading from disk.\n",
    "\n",
    "This example is based on  [this pytorch example](https://github.com/pytorch/examples/blob/master/mnist/main.py), but rewritten for torchtuples with some other minor modifications."
   ]
  },
  {
   "cell_type": "code",
   "execution_count": 1,
   "metadata": {},
   "outputs": [],
   "source": [
    "import numpy as np\n",
    "import torch\n",
    "import torch.nn as nn\n",
    "import torch.nn.functional as F\n",
    "import torch.optim as optim\n",
    "import torchvision\n",
    "from torchvision import datasets, transforms"
   ]
  },
  {
   "cell_type": "code",
   "execution_count": 2,
   "metadata": {},
   "outputs": [],
   "source": [
    "import matplotlib.pyplot as plt\n",
    "from torchtuples import Model, optim, practical, data"
   ]
  },
  {
   "cell_type": "code",
   "execution_count": 3,
   "metadata": {},
   "outputs": [],
   "source": [
    "# for reproducability\n",
    "np.random.seed(123456)\n",
    "_ = torch.manual_seed(654321)"
   ]
  },
  {
   "cell_type": "code",
   "execution_count": 4,
   "metadata": {},
   "outputs": [],
   "source": [
    "num_workers = 0\n",
    "batch_size = 64\n",
    "batch_size_test = 1000\n",
    "epochs = 10\n",
    "lr = 0.01\n",
    "momentum=0.5"
   ]
  },
  {
   "cell_type": "markdown",
   "metadata": {},
   "source": [
    "### Dataset \n",
    "\n",
    "We load the MNIST datas set from torchvision as two dataloaders: one for training and one for testing."
   ]
  },
  {
   "cell_type": "code",
   "execution_count": 5,
   "metadata": {},
   "outputs": [],
   "source": [
    "train_loader = torch.utils.data.DataLoader(\n",
    "    datasets.MNIST('../data', train=True, download=True,\n",
    "                   transform=transforms.Compose([transforms.ToTensor(),\n",
    "                                                 transforms.Normalize((0.1307,), (0.3081,))])),\n",
    "    batch_size=batch_size, shuffle=True, num_workers=num_workers)"
   ]
  },
  {
   "cell_type": "code",
   "execution_count": 6,
   "metadata": {},
   "outputs": [],
   "source": [
    "test_loader = torch.utils.data.DataLoader(\n",
    "    datasets.MNIST('../data', train=False,\n",
    "                   transform=transforms.Compose([transforms.ToTensor(),\n",
    "                                                 transforms.Normalize((0.1307,), (0.3081,))])),\n",
    "    batch_size=batch_size_test, shuffle=False, num_workers=num_workers)"
   ]
  },
  {
   "cell_type": "markdown",
   "metadata": {},
   "source": [
    "We make a simple covolutional net:"
   ]
  },
  {
   "cell_type": "code",
   "execution_count": 7,
   "metadata": {},
   "outputs": [],
   "source": [
    "class Net(nn.Module):\n",
    "    def __init__(self):\n",
    "        super(Net, self).__init__()\n",
    "        self.conv1 = nn.Conv2d(1, 20, 5, 1)\n",
    "        self.conv2 = nn.Conv2d(20, 50, 5, 1)\n",
    "        self.fc1 = nn.Linear(4*4*50, 500)\n",
    "        self.fc2 = nn.Linear(500, 10)\n",
    "\n",
    "    def forward(self, x):\n",
    "        x = F.relu(self.conv1(x))\n",
    "        x = F.max_pool2d(x, 2, 2)\n",
    "        x = F.relu(self.conv2(x))\n",
    "        x = F.max_pool2d(x, 2, 2)\n",
    "        x = x.view(-1, 4*4*50)\n",
    "        x = F.relu(self.fc1(x))\n",
    "        x = self.fc2(x)\n",
    "        return  x # return F.log_softmax(x, dim=1)"
   ]
  },
  {
   "cell_type": "code",
   "execution_count": 8,
   "metadata": {},
   "outputs": [],
   "source": [
    "net = Net()\n",
    "model = Model(net, nn.CrossEntropyLoss(), optim.SGD(lr, momentum))"
   ]
  },
  {
   "cell_type": "markdown",
   "metadata": {},
   "source": [
    "and fit the net with SGD. Note that we can use `model.lr_finder_dataloader` to to find a reasonable learning rate, and include callbacks for early stopping etc."
   ]
  },
  {
   "cell_type": "code",
   "execution_count": 9,
   "metadata": {},
   "outputs": [
    {
     "name": "stdout",
     "output_type": "stream",
     "text": [
      "0:\t[1m:30s / 1m:30s],\t\ttrain_loss: 0.3225,\ttrain_acc: 0.9041,\tval_loss: 0.0967,\tval_acc: 0.9714\n",
      "1:\t[1m:36s / 3m:7s],\t\ttrain_loss: 0.0842,\ttrain_acc: 0.9740,\tval_loss: 0.0621,\tval_acc: 0.9810\n",
      "2:\t[1m:9s / 4m:16s],\t\ttrain_loss: 0.0597,\ttrain_acc: 0.9818,\tval_loss: 0.0489,\tval_acc: 0.9844\n",
      "3:\t[1m:12s / 5m:28s],\t\ttrain_loss: 0.0467,\ttrain_acc: 0.9857,\tval_loss: 0.0416,\tval_acc: 0.9863\n",
      "4:\t[1m:8s / 6m:37s],\t\ttrain_loss: 0.0392,\ttrain_acc: 0.9881,\tval_loss: 0.0425,\tval_acc: 0.9859\n",
      "5:\t[1m:9s / 7m:46s],\t\ttrain_loss: 0.0334,\ttrain_acc: 0.9901,\tval_loss: 0.0315,\tval_acc: 0.9910\n",
      "6:\t[1m:5s / 8m:52s],\t\ttrain_loss: 0.0292,\ttrain_acc: 0.9909,\tval_loss: 0.0326,\tval_acc: 0.9888\n",
      "7:\t[1m:22s / 10m:15s],\t\ttrain_loss: 0.0253,\ttrain_acc: 0.9922,\tval_loss: 0.0294,\tval_acc: 0.9907\n",
      "8:\t[1m:12s / 11m:27s],\t\ttrain_loss: 0.0227,\ttrain_acc: 0.9933,\tval_loss: 0.0256,\tval_acc: 0.9910\n",
      "9:\t[1m:8s / 12m:35s],\t\ttrain_loss: 0.0198,\ttrain_acc: 0.9938,\tval_loss: 0.0263,\tval_acc: 0.9915\n"
     ]
    }
   ],
   "source": [
    "log = model.fit_dataloader(train_loader, epochs=epochs, val_dataloader=test_loader, metrics={'acc': practical.accuracy_argmax})"
   ]
  },
  {
   "cell_type": "markdown",
   "metadata": {},
   "source": [
    "We can plot the loss and accuracy of the training progress"
   ]
  },
  {
   "cell_type": "code",
   "execution_count": 10,
   "metadata": {},
   "outputs": [
    {
     "data": {
      "image/png": "[encoded data removed]",
      "text/plain": [
       "<Figure size 432x288 with 1 Axes>"
      ]
     },
     "metadata": {
      "needs_background": "light"
     },
     "output_type": "display_data"
    }
   ],
   "source": [
    "_ = log.to_pandas()[['train_loss', 'val_loss']].plot()"
   ]
  },
  {
   "cell_type": "code",
   "execution_count": 11,
   "metadata": {},
   "outputs": [
    {
     "data": {
      "image/png": "[encoded data removed]",
      "text/plain": [
       "<Figure size 432x288 with 1 Axes>"
      ]
     },
     "metadata": {
      "needs_background": "light"
     },
     "output_type": "display_data"
    }
   ],
   "source": [
    "_ = log.to_pandas()[['train_acc', 'val_acc']].plot()"
   ]
  },
  {
   "cell_type": "markdown",
   "metadata": {},
   "source": [
    "## Scoring\n",
    "\n",
    "We can either use a method of the model to score the test set, or we can make predictions"
   ]
  },
  {
   "cell_type": "code",
   "execution_count": 12,
   "metadata": {},
   "outputs": [
    {
     "data": {
      "text/plain": [
       "{'loss': 0.0263050589710474, 'acc': 0.9915000200271606}"
      ]
     },
     "execution_count": 12,
     "metadata": {},
     "output_type": "execute_result"
    }
   ],
   "source": [
    "model.score_in_batches_dataloader(test_loader)"
   ]
  },
  {
   "cell_type": "markdown",
   "metadata": {},
   "source": [
    "### Prections\n",
    "\n",
    "To use the predit method, we need a data loader that only pass the images and not the labels.\n",
    "\n",
    "This can be done by making a new data loader, or use the function in `torchtuples.data.dataloader_input_only`"
   ]
  },
  {
   "cell_type": "code",
   "execution_count": 13,
   "metadata": {},
   "outputs": [],
   "source": [
    "test_input = data.dataloader_input_only(test_loader)"
   ]
  },
  {
   "cell_type": "markdown",
   "metadata": {},
   "source": [
    "We can now make preditions"
   ]
  },
  {
   "cell_type": "code",
   "execution_count": 14,
   "metadata": {},
   "outputs": [],
   "source": [
    "preds = model.predict(test_input)\n",
    "preds = preds.argmax(1)"
   ]
  },
  {
   "cell_type": "markdown",
   "metadata": {},
   "source": [
    "and visualize by sampling 8 at a time"
   ]
  },
  {
   "cell_type": "code",
   "execution_count": 15,
   "metadata": {},
   "outputs": [],
   "source": [
    "images = next(iter(test_input))"
   ]
  },
  {
   "cell_type": "code",
   "execution_count": 16,
   "metadata": {},
   "outputs": [
    {
     "data": {
      "text/plain": [
       "array([4, 7, 0, 4, 6, 7, 5, 4])"
      ]
     },
     "execution_count": 16,
     "metadata": {},
     "output_type": "execute_result"
    },
    {
     "data": {
      "image/png": "[encoded data removed]",
      "text/plain": [
       "<Figure size 720x432 with 1 Axes>"
      ]
     },
     "metadata": {
      "needs_background": "light"
     },
     "output_type": "display_data"
    }
   ],
   "source": [
    "idx = np.random.choice(test_input.batch_sampler.batch_size, 8)\n",
    "sub = images[idx]\n",
    "plt.figure(figsize=(10, 6))\n",
    "_ = plt.imshow(torchvision.utils.make_grid(sub)[0].numpy(), cmap='gray')\n",
    "preds[idx]"
   ]
  },
  {
   "cell_type": "code",
   "execution_count": null,
   "metadata": {},
   "outputs": [],
   "source": []
  }
 ],
 "metadata": {
  "kernelspec": {
   "display_name": "Python 3",
   "language": "python",
   "name": "python3"
  },
  "language_info": {
   "codemirror_mode": {
    "name": "ipython",
    "version": 3
   },
   "file_extension": ".py",
   "mimetype": "text/x-python",
   "name": "python",
   "nbconvert_exporter": "python",
   "pygments_lexer": "ipython3",
   "version": "3.7.4"
  }
 },
 "nbformat": 4,
 "nbformat_minor": 4
}
