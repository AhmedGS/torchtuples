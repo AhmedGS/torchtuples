{
 "cells": [
  {
   "cell_type": "markdown",
   "metadata": {},
   "source": [
    "# General usage\n",
    "\n",
    "In this notebook we illustrate general usage of the torchtuples `Model` with a binary classifier.\n",
    "\n",
    "We will do the following:\n",
    "\n",
    "- Use the [AdamWR optimizer](https://arxiv.org/pdf/1711.05101.pdf) with cyclical learning rates.\n",
    "- Use the scheeme proposed by [Smith 2017](https://arxiv.org/pdf/1506.01186.pdf) to find a suitable learning rate.\n",
    "- Monitor accuracy in addition to loss during training.\n",
    "- Use early stopping based on the validation loss to stop unnecessary computation and checkpoint the best model during training.\n"
   ]
  },
  {
   "cell_type": "code",
   "execution_count": 1,
   "metadata": {},
   "outputs": [],
   "source": [
    "import numpy as np\n",
    "import pandas as pd\n",
    "import matplotlib.pyplot as plt\n",
    "import torch\n",
    "from torchtuples import Model, optim\n",
    "import torchtuples.callbacks as cb\n",
    "from torchtuples.practical import MLPVanilla, accuracy_binary"
   ]
  },
  {
   "cell_type": "code",
   "execution_count": 2,
   "metadata": {},
   "outputs": [],
   "source": [
    "from sklearn.datasets import make_classification # to create a data set\n",
    "from sklearn.model_selection import train_test_split"
   ]
  },
  {
   "cell_type": "markdown",
   "metadata": {},
   "source": [
    "## Make the data set\n",
    "We create a binary classification data set with `make_classification` and split it in training, validation and testing.\n",
    "\n",
    "The data set is standardized, so we require no more preprocessing. However, we need to set the data type to 'float32', as torch does not work for 'float64', and we need y to be a column vector as this is expected by `torch.nn.BCEWithLogitsLoss`"
   ]
  },
  {
   "cell_type": "code",
   "execution_count": 3,
   "metadata": {},
   "outputs": [],
   "source": [
    "# for reproducability\n",
    "np.random.seed(1234)\n",
    "_ = torch.manual_seed(4321)"
   ]
  },
  {
   "cell_type": "code",
   "execution_count": 4,
   "metadata": {},
   "outputs": [],
   "source": [
    "n = 10000\n",
    "x_train, y_train = make_classification(n)\n",
    "x_train = x_train.astype('float32')\n",
    "y_train = y_train.astype('float32').reshape(-1, 1)\n",
    "x_train, x_test, y_train, y_test = train_test_split(x_train, y_train, test_size=0.2)\n",
    "x_train, x_val, y_train, y_val = train_test_split(x_train, y_train, test_size=0.2)"
   ]
  },
  {
   "cell_type": "code",
   "execution_count": 5,
   "metadata": {},
   "outputs": [],
   "source": [
    "train = (x_train, y_train)\n",
    "val = (x_val, y_val)\n",
    "test = (x_test, y_test)"
   ]
  },
  {
   "cell_type": "markdown",
   "metadata": {},
   "source": [
    "## Make a torch MLP\n",
    "\n",
    "Next, we need to make the torch net. For simplicity we will use `MLPVanilla` to make a two-hidden-layers MLP with 32 nodes in each layer, ReLU activation, batch norm and dropout of 0.1.\n",
    "\n",
    "If you don't know how to make torch models, you shold see PyTorch has some [excellent tutorials](https://pytorch.org/tutorials/)"
   ]
  },
  {
   "cell_type": "code",
   "execution_count": 6,
   "metadata": {},
   "outputs": [],
   "source": [
    "in_features = x_train.shape[1]\n",
    "num_nodes = [32, 32]\n",
    "out_features = 1\n",
    "batch_norm = True\n",
    "dropout = 0.1\n",
    "\n",
    "net = MLPVanilla(in_features, num_nodes, out_features, batch_norm, dropout)"
   ]
  },
  {
   "cell_type": "markdown",
   "metadata": {},
   "source": [
    "We now define the loss function (binary cross-entropy) and the optimizer (AdmamWR) and create a model. Note that we use decoupled weight decay for regularization and muliply the cycle length with 2 after every warm restart, and multiply the learning rate with 0.8 after every warm restart.\n",
    "\n",
    "If we don't specify a `device`, the `Moded` will used gpu if avaiable."
   ]
  },
  {
   "cell_type": "code",
   "execution_count": 7,
   "metadata": {},
   "outputs": [],
   "source": [
    "optimizer = optim.AdamWR(decoupled_weight_decay=0.01, cycle_multiplier=2, cycle_eta_multiplier=0.8)\n",
    "model = Model(net, torch.nn.BCEWithLogitsLoss(), optimizer)"
   ]
  },
  {
   "cell_type": "markdown",
   "metadata": {},
   "source": [
    "## Finding a good learning rate\n",
    "\n",
    "We can now use the scheeme proposed by [Smith 2017](https://arxiv.org/pdf/1506.01186.pdf) to find a suitable learning rate.\n",
    "`tolerance` is optinal and stops the procedyre when the loss becomes larger the the give value."
   ]
  },
  {
   "cell_type": "code",
   "execution_count": 8,
   "metadata": {},
   "outputs": [
    {
     "data": {
      "image/png": "[encoded data removed]",
      "text/plain": [
       "<Figure size 432x288 with 1 Axes>"
      ]
     },
     "metadata": {
      "needs_background": "light"
     },
     "output_type": "display_data"
    }
   ],
   "source": [
    "batch_size = 256\n",
    "lrfinder = model.lr_finder(x_train, y_train, batch_size, tolerance=10)\n",
    "_ = lrfinder.plot()"
   ]
  },
  {
   "cell_type": "markdown",
   "metadata": {},
   "source": [
    "The plot displays the loss as function of learning rate (see fast.ai for explanations), and we have set a proposed learning rate for the model"
   ]
  },
  {
   "cell_type": "code",
   "execution_count": 9,
   "metadata": {},
   "outputs": [
    {
     "data": {
      "text/plain": [
       "0.12915496650148922"
      ]
     },
     "execution_count": 9,
     "metadata": {},
     "output_type": "execute_result"
    }
   ],
   "source": [
    "model.optimizer.param_groups[0]['lr']"
   ]
  },
  {
   "cell_type": "markdown",
   "metadata": {},
   "source": [
    "This can also be found by"
   ]
  },
  {
   "cell_type": "code",
   "execution_count": 10,
   "metadata": {},
   "outputs": [
    {
     "data": {
      "text/plain": [
       "0.12915496650148922"
      ]
     },
     "execution_count": 10,
     "metadata": {},
     "output_type": "execute_result"
    }
   ],
   "source": [
    "lrfinder.get_best_lr()"
   ]
  },
  {
   "cell_type": "markdown",
   "metadata": {},
   "source": [
    "Note that because we have reinitialized the optimizer after `lr_finder`, the optimizer of the model is no longer `optimizer`"
   ]
  },
  {
   "cell_type": "code",
   "execution_count": 11,
   "metadata": {},
   "outputs": [
    {
     "data": {
      "text/plain": [
       "False"
      ]
     },
     "execution_count": 11,
     "metadata": {},
     "output_type": "execute_result"
    }
   ],
   "source": [
    "model.optimizer is optimizer"
   ]
  },
  {
   "cell_type": "markdown",
   "metadata": {},
   "source": [
    "We can also set a suitable learning rate for the network our selves:"
   ]
  },
  {
   "cell_type": "code",
   "execution_count": 12,
   "metadata": {},
   "outputs": [
    {
     "data": {
      "text/plain": [
       "0.1"
      ]
     },
     "execution_count": 12,
     "metadata": {},
     "output_type": "execute_result"
    }
   ],
   "source": [
    "model.optimizer.set_lr(0.1)\n",
    "model.optimizer.param_groups[0]['lr']"
   ]
  },
  {
   "cell_type": "markdown",
   "metadata": {},
   "source": [
    "The `get_best_lr` sometimes choose a too high learning rate, so we suggest that you set one yourself instead."
   ]
  },
  {
   "cell_type": "markdown",
   "metadata": {},
   "source": [
    "## Trainig\n",
    "\n",
    "We can not fit the model. Fit we want to monitor the accuracy, wo we include `accuracy_binary` (from `torchtuples.practical`).\n",
    "We can however replace this with a variaty of measures from `torch`, such as `torch.nn.functional.mse_loss` (thought MSE is not very useful here)."
   ]
  },
  {
   "cell_type": "code",
   "execution_count": 13,
   "metadata": {},
   "outputs": [],
   "source": [
    "metrics = {'acc': accuracy_binary}"
   ]
  },
  {
   "cell_type": "markdown",
   "metadata": {},
   "source": [
    "Next, we want to use early stopping to not wast time on unnecessary computations. As we have a cyclical optimizer, we will use the callback `EarlyStoppingCycle`, but for regular optimizers we suggest `EarlyStopping` instead. \n",
    "\n",
    "We have a patiace of one cycle, meaning that if we go a full cycle without obtaining a new 'best model', we will stop. `min_cycle` determines the minimum number of cycles we can iterate before allowed to stop.\n",
    "\n",
    "The default behaviour is to monitor the validation loss, but we can change this metric to e.g. 'acc' got get the accuray instead.\n",
    "Also, the default is to load the best performing model after we stop which is controlled by `load_best`."
   ]
  },
  {
   "cell_type": "code",
   "execution_count": 14,
   "metadata": {},
   "outputs": [],
   "source": [
    "es = cb.EarlyStoppingCycle(patience=1, min_cycles=6)"
   ]
  },
  {
   "cell_type": "markdown",
   "metadata": {},
   "source": [
    "We can now fit the model and inspect the results. Note that we don't run for all 200 epochs"
   ]
  },
  {
   "cell_type": "code",
   "execution_count": 15,
   "metadata": {},
   "outputs": [
    {
     "name": "stdout",
     "output_type": "stream",
     "text": [
      "0:\t[0s / 0s],\t\ttrain_loss: 0.3064,\ttrain_acc: 0.8833,\tval_loss: 0.2519,\tval_acc: 0.9087\n",
      "1:\t[0s / 0s],\t\ttrain_loss: 0.2406,\ttrain_acc: 0.9116,\tval_loss: 0.1735,\tval_acc: 0.9425\n",
      "2:\t[0s / 0s],\t\ttrain_loss: 0.2017,\ttrain_acc: 0.9316,\tval_loss: 0.1573,\tval_acc: 0.9488\n",
      "3:\t[0s / 0s],\t\ttrain_loss: 0.1991,\ttrain_acc: 0.9284,\tval_loss: 0.1535,\tval_acc: 0.9413\n",
      "4:\t[0s / 0s],\t\ttrain_loss: 0.1781,\ttrain_acc: 0.9361,\tval_loss: 0.1367,\tval_acc: 0.9513\n",
      "5:\t[0s / 1s],\t\ttrain_loss: 0.1628,\ttrain_acc: 0.9419,\tval_loss: 0.1354,\tval_acc: 0.9506\n",
      "6:\t[0s / 1s],\t\ttrain_loss: 0.1545,\ttrain_acc: 0.9452,\tval_loss: 0.1216,\tval_acc: 0.9531\n",
      "7:\t[0s / 1s],\t\ttrain_loss: 0.1701,\ttrain_acc: 0.9341,\tval_loss: 0.1371,\tval_acc: 0.9513\n",
      "8:\t[0s / 1s],\t\ttrain_loss: 0.1678,\ttrain_acc: 0.9394,\tval_loss: 0.1402,\tval_acc: 0.9469\n",
      "9:\t[0s / 1s],\t\ttrain_loss: 0.1562,\ttrain_acc: 0.9414,\tval_loss: 0.1234,\tval_acc: 0.9575\n",
      "10:\t[0s / 1s],\t\ttrain_loss: 0.1473,\ttrain_acc: 0.9447,\tval_loss: 0.1166,\tval_acc: 0.9556\n",
      "11:\t[0s / 1s],\t\ttrain_loss: 0.1426,\ttrain_acc: 0.9487,\tval_loss: 0.1145,\tval_acc: 0.9550\n",
      "12:\t[0s / 1s],\t\ttrain_loss: 0.1427,\ttrain_acc: 0.9505,\tval_loss: 0.1107,\tval_acc: 0.9575\n",
      "13:\t[0s / 2s],\t\ttrain_loss: 0.1306,\ttrain_acc: 0.9525,\tval_loss: 0.1101,\tval_acc: 0.9606\n",
      "14:\t[0s / 2s],\t\ttrain_loss: 0.1322,\ttrain_acc: 0.9503,\tval_loss: 0.1099,\tval_acc: 0.9600\n",
      "15:\t[0s / 2s],\t\ttrain_loss: 0.1396,\ttrain_acc: 0.9481,\tval_loss: 0.1197,\tval_acc: 0.9606\n",
      "16:\t[0s / 2s],\t\ttrain_loss: 0.1466,\ttrain_acc: 0.9470,\tval_loss: 0.1255,\tval_acc: 0.9556\n",
      "17:\t[0s / 2s],\t\ttrain_loss: 0.1501,\ttrain_acc: 0.9478,\tval_loss: 0.1287,\tval_acc: 0.9594\n",
      "18:\t[0s / 3s],\t\ttrain_loss: 0.1440,\ttrain_acc: 0.9463,\tval_loss: 0.1214,\tval_acc: 0.9563\n",
      "19:\t[0s / 3s],\t\ttrain_loss: 0.1408,\ttrain_acc: 0.9445,\tval_loss: 0.1263,\tval_acc: 0.9569\n",
      "20:\t[0s / 3s],\t\ttrain_loss: 0.1391,\ttrain_acc: 0.9497,\tval_loss: 0.1260,\tval_acc: 0.9513\n",
      "21:\t[0s / 3s],\t\ttrain_loss: 0.1395,\ttrain_acc: 0.9475,\tval_loss: 0.1417,\tval_acc: 0.9506\n",
      "22:\t[0s / 3s],\t\ttrain_loss: 0.1281,\ttrain_acc: 0.9547,\tval_loss: 0.1136,\tval_acc: 0.9581\n",
      "23:\t[0s / 3s],\t\ttrain_loss: 0.1245,\ttrain_acc: 0.9530,\tval_loss: 0.1233,\tval_acc: 0.9575\n",
      "24:\t[0s / 3s],\t\ttrain_loss: 0.1211,\ttrain_acc: 0.9544,\tval_loss: 0.1194,\tval_acc: 0.9594\n",
      "25:\t[0s / 3s],\t\ttrain_loss: 0.1212,\ttrain_acc: 0.9555,\tval_loss: 0.1154,\tval_acc: 0.9613\n",
      "26:\t[0s / 4s],\t\ttrain_loss: 0.1171,\ttrain_acc: 0.9544,\tval_loss: 0.1156,\tval_acc: 0.9600\n",
      "27:\t[0s / 4s],\t\ttrain_loss: 0.1155,\ttrain_acc: 0.9570,\tval_loss: 0.1168,\tval_acc: 0.9600\n",
      "28:\t[0s / 4s],\t\ttrain_loss: 0.1098,\ttrain_acc: 0.9592,\tval_loss: 0.1170,\tval_acc: 0.9606\n",
      "29:\t[0s / 4s],\t\ttrain_loss: 0.1107,\ttrain_acc: 0.9578,\tval_loss: 0.1180,\tval_acc: 0.9606\n",
      "30:\t[0s / 4s],\t\ttrain_loss: 0.1100,\ttrain_acc: 0.9584,\tval_loss: 0.1168,\tval_acc: 0.9600\n",
      "31:\t[0s / 4s],\t\ttrain_loss: 0.1260,\ttrain_acc: 0.9559,\tval_loss: 0.1296,\tval_acc: 0.9556\n",
      "32:\t[0s / 4s],\t\ttrain_loss: 0.1361,\ttrain_acc: 0.9473,\tval_loss: 0.1250,\tval_acc: 0.9581\n",
      "33:\t[0s / 4s],\t\ttrain_loss: 0.1291,\ttrain_acc: 0.9527,\tval_loss: 0.1234,\tval_acc: 0.9563\n",
      "34:\t[0s / 4s],\t\ttrain_loss: 0.1206,\ttrain_acc: 0.9530,\tval_loss: 0.1264,\tval_acc: 0.9563\n",
      "35:\t[0s / 5s],\t\ttrain_loss: 0.1276,\ttrain_acc: 0.9520,\tval_loss: 0.1237,\tval_acc: 0.9581\n",
      "36:\t[0s / 5s],\t\ttrain_loss: 0.1293,\ttrain_acc: 0.9481,\tval_loss: 0.1291,\tval_acc: 0.9575\n",
      "37:\t[0s / 5s],\t\ttrain_loss: 0.1227,\ttrain_acc: 0.9555,\tval_loss: 0.1234,\tval_acc: 0.9575\n",
      "38:\t[0s / 5s],\t\ttrain_loss: 0.1166,\ttrain_acc: 0.9572,\tval_loss: 0.1245,\tval_acc: 0.9581\n",
      "39:\t[0s / 5s],\t\ttrain_loss: 0.1211,\ttrain_acc: 0.9559,\tval_loss: 0.1246,\tval_acc: 0.9600\n",
      "40:\t[0s / 5s],\t\ttrain_loss: 0.1166,\ttrain_acc: 0.9566,\tval_loss: 0.1241,\tval_acc: 0.9613\n",
      "41:\t[0s / 6s],\t\ttrain_loss: 0.1203,\ttrain_acc: 0.9536,\tval_loss: 0.1268,\tval_acc: 0.9575\n",
      "42:\t[0s / 6s],\t\ttrain_loss: 0.1177,\ttrain_acc: 0.9566,\tval_loss: 0.1222,\tval_acc: 0.9588\n",
      "43:\t[0s / 6s],\t\ttrain_loss: 0.1090,\ttrain_acc: 0.9580,\tval_loss: 0.1201,\tval_acc: 0.9588\n",
      "44:\t[0s / 6s],\t\ttrain_loss: 0.1118,\ttrain_acc: 0.9583,\tval_loss: 0.1226,\tval_acc: 0.9606\n",
      "45:\t[0s / 6s],\t\ttrain_loss: 0.1099,\ttrain_acc: 0.9580,\tval_loss: 0.1238,\tval_acc: 0.9575\n",
      "46:\t[0s / 6s],\t\ttrain_loss: 0.1039,\ttrain_acc: 0.9611,\tval_loss: 0.1256,\tval_acc: 0.9613\n",
      "47:\t[0s / 6s],\t\ttrain_loss: 0.1037,\ttrain_acc: 0.9625,\tval_loss: 0.1258,\tval_acc: 0.9588\n",
      "48:\t[0s / 6s],\t\ttrain_loss: 0.1055,\ttrain_acc: 0.9597,\tval_loss: 0.1267,\tval_acc: 0.9575\n",
      "49:\t[0s / 7s],\t\ttrain_loss: 0.0994,\ttrain_acc: 0.9602,\tval_loss: 0.1202,\tval_acc: 0.9606\n",
      "50:\t[0s / 7s],\t\ttrain_loss: 0.1003,\ttrain_acc: 0.9622,\tval_loss: 0.1250,\tval_acc: 0.9569\n",
      "51:\t[0s / 7s],\t\ttrain_loss: 0.1040,\ttrain_acc: 0.9605,\tval_loss: 0.1184,\tval_acc: 0.9625\n",
      "52:\t[0s / 7s],\t\ttrain_loss: 0.0996,\ttrain_acc: 0.9614,\tval_loss: 0.1191,\tval_acc: 0.9594\n",
      "53:\t[0s / 7s],\t\ttrain_loss: 0.0987,\ttrain_acc: 0.9625,\tval_loss: 0.1211,\tval_acc: 0.9613\n",
      "54:\t[0s / 7s],\t\ttrain_loss: 0.0965,\ttrain_acc: 0.9614,\tval_loss: 0.1234,\tval_acc: 0.9588\n",
      "55:\t[0s / 7s],\t\ttrain_loss: 0.0948,\ttrain_acc: 0.9639,\tval_loss: 0.1220,\tval_acc: 0.9613\n",
      "56:\t[0s / 8s],\t\ttrain_loss: 0.0963,\ttrain_acc: 0.9627,\tval_loss: 0.1223,\tval_acc: 0.9613\n",
      "57:\t[0s / 8s],\t\ttrain_loss: 0.0924,\ttrain_acc: 0.9656,\tval_loss: 0.1224,\tval_acc: 0.9619\n",
      "58:\t[0s / 8s],\t\ttrain_loss: 0.0912,\ttrain_acc: 0.9645,\tval_loss: 0.1227,\tval_acc: 0.9613\n",
      "59:\t[0s / 8s],\t\ttrain_loss: 0.0909,\ttrain_acc: 0.9656,\tval_loss: 0.1229,\tval_acc: 0.9594\n",
      "60:\t[0s / 8s],\t\ttrain_loss: 0.0926,\ttrain_acc: 0.9659,\tval_loss: 0.1230,\tval_acc: 0.9613\n",
      "61:\t[0s / 8s],\t\ttrain_loss: 0.0865,\ttrain_acc: 0.9703,\tval_loss: 0.1228,\tval_acc: 0.9600\n",
      "62:\t[0s / 8s],\t\ttrain_loss: 0.0950,\ttrain_acc: 0.9623,\tval_loss: 0.1229,\tval_acc: 0.9606\n",
      "63:\t[0s / 8s],\t\ttrain_loss: 0.1040,\ttrain_acc: 0.9598,\tval_loss: 0.1389,\tval_acc: 0.9531\n"
     ]
    }
   ],
   "source": [
    "log = model.fit(x_train, y_train, batch_size, epochs=200, val_data=val, callbacks=[es], metrics=metrics)"
   ]
  },
  {
   "cell_type": "markdown",
   "metadata": {},
   "source": [
    "Next, we can plot the trainig progress with the first plot giving the loss, and the second giving the accuracy.A"
   ]
  },
  {
   "cell_type": "code",
   "execution_count": 16,
   "metadata": {},
   "outputs": [
    {
     "data": {
      "image/png": "[encoded data removed]",
      "text/plain": [
       "<Figure size 432x288 with 1 Axes>"
      ]
     },
     "metadata": {
      "needs_background": "light"
     },
     "output_type": "display_data"
    }
   ],
   "source": [
    "log.to_pandas()[['train_loss', 'val_loss']].plot()\n",
    "plt.xlabel('epoch')\n",
    "_ = plt.ylabel('loss')"
   ]
  },
  {
   "cell_type": "code",
   "execution_count": 17,
   "metadata": {},
   "outputs": [
    {
     "data": {
      "image/png": "[encoded data removed]",
      "text/plain": [
       "<Figure size 432x288 with 1 Axes>"
      ]
     },
     "metadata": {
      "needs_background": "light"
     },
     "output_type": "display_data"
    }
   ],
   "source": [
    "log.to_pandas()[['train_acc', 'val_acc']].plot()\n",
    "plt.xlabel('epoch')\n",
    "_ = plt.ylabel('accuracy')"
   ]
  },
  {
   "cell_type": "markdown",
   "metadata": {},
   "source": [
    "we can use `score_in_batches` to score a data set"
   ]
  },
  {
   "cell_type": "code",
   "execution_count": 18,
   "metadata": {},
   "outputs": [
    {
     "data": {
      "text/plain": [
       "{'loss': 0.10986289381980896, 'acc': 0.9599999785423279}"
      ]
     },
     "execution_count": 18,
     "metadata": {},
     "output_type": "execute_result"
    }
   ],
   "source": [
    "model.score_in_batches(val)"
   ]
  },
  {
   "cell_type": "markdown",
   "metadata": {},
   "source": [
    "and we see that we have the same value as the smalles validation loss"
   ]
  },
  {
   "cell_type": "code",
   "execution_count": 19,
   "metadata": {},
   "outputs": [
    {
     "data": {
      "text/plain": [
       "0.10986289381980896"
      ]
     },
     "execution_count": 19,
     "metadata": {},
     "output_type": "execute_result"
    }
   ],
   "source": [
    "log.to_pandas().val_loss.min()"
   ]
  },
  {
   "cell_type": "markdown",
   "metadata": {},
   "source": [
    "## Predictions\n",
    "\n",
    "We can compare this with the training and test set, and we see that there is a small tenency to overfitting of the training and validation data"
   ]
  },
  {
   "cell_type": "code",
   "execution_count": 20,
   "metadata": {},
   "outputs": [
    {
     "data": {
      "text/plain": [
       "{'loss': 0.1159840002655983, 'acc': 0.95703125}"
      ]
     },
     "execution_count": 20,
     "metadata": {},
     "output_type": "execute_result"
    }
   ],
   "source": [
    "model.score_in_batches(train)"
   ]
  },
  {
   "cell_type": "code",
   "execution_count": 21,
   "metadata": {},
   "outputs": [
    {
     "data": {
      "text/plain": [
       "{'loss': 0.15351265668869019, 'acc': 0.9430000185966492}"
      ]
     },
     "execution_count": 21,
     "metadata": {},
     "output_type": "execute_result"
    }
   ],
   "source": [
    "model.score_in_batches(test)"
   ]
  },
  {
   "cell_type": "markdown",
   "metadata": {},
   "source": [
    "We can alos use the `predict` method to obtain predictions and accuracy "
   ]
  },
  {
   "cell_type": "code",
   "execution_count": 22,
   "metadata": {},
   "outputs": [
    {
     "data": {
      "text/plain": [
       "0.943"
      ]
     },
     "execution_count": 22,
     "metadata": {},
     "output_type": "execute_result"
    }
   ],
   "source": [
    "preds = model.predict(x_test, numpy=False).sigmoid().numpy()\n",
    "((preds > 0.5) == y_test).mean()"
   ]
  },
  {
   "cell_type": "markdown",
   "metadata": {},
   "source": [
    "## More on learning rates\n",
    "\n",
    "As we use the AdamWR optimizer, we can inspect the development of the learning rates. First we take a look at the $\\eta$'s that are multiplied with our orinigal learning rate."
   ]
  },
  {
   "cell_type": "code",
   "execution_count": 23,
   "metadata": {},
   "outputs": [
    {
     "data": {
      "image/png": "[encoded data removed]",
      "text/plain": [
       "<Figure size 432x288 with 1 Axes>"
      ]
     },
     "metadata": {
      "needs_background": "light"
     },
     "output_type": "display_data"
    }
   ],
   "source": [
    "lr_multiplier = pd.Series(model.optimizer.lr_scheduler.get_etas())\n",
    "lr_multiplier.plot()\n",
    "plt.xlabel('batch')\n",
    "_ = plt.ylabel(\"lr multiplier\")"
   ]
  },
  {
   "cell_type": "markdown",
   "metadata": {},
   "source": [
    "we can the obtarin the actual learning rates used by multiplying with the initial learning rate"
   ]
  },
  {
   "cell_type": "code",
   "execution_count": 24,
   "metadata": {},
   "outputs": [
    {
     "data": {
      "image/png": "[encoded data removed]",
      "text/plain": [
       "<Figure size 432x288 with 1 Axes>"
      ]
     },
     "metadata": {
      "needs_background": "light"
     },
     "output_type": "display_data"
    }
   ],
   "source": [
    "lrs = lr_multiplier * model.optimizer.param_groups[0]['initial_lr']\n",
    "lrs.plot()\n",
    "plt.xlabel('batch')\n",
    "_ = plt.ylabel(\"lr\")"
   ]
  },
  {
   "cell_type": "code",
   "execution_count": null,
   "metadata": {},
   "outputs": [],
   "source": []
  }
 ],
 "metadata": {
  "kernelspec": {
   "display_name": "Python 3",
   "language": "python",
   "name": "python3"
  },
  "language_info": {
   "codemirror_mode": {
    "name": "ipython",
    "version": 3
   },
   "file_extension": ".py",
   "mimetype": "text/x-python",
   "name": "python",
   "nbconvert_exporter": "python",
   "pygments_lexer": "ipython3",
   "version": "3.7.3"
  }
 },
 "nbformat": 4,
 "nbformat_minor": 2
}
